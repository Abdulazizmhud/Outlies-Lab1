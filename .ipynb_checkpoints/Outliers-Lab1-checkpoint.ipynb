{
 "cells": [
  {
   "cell_type": "markdown",
   "id": "timely-involvement",
   "metadata": {},
   "source": [
    "### Import your librares"
   ]
  },
  {
   "cell_type": "code",
   "execution_count": 5,
   "id": "dramatic-briefs",
   "metadata": {},
   "outputs": [],
   "source": [
    "import numpy as np\n",
    "import pandas as pd\n",
    "import matplotlib.pyplot as plt\n",
    "import seaborn as sns"
   ]
  },
  {
   "cell_type": "markdown",
   "id": "australian-softball",
   "metadata": {},
   "source": [
    "### Load your dataset"
   ]
  },
  {
   "cell_type": "code",
   "execution_count": 3,
   "id": "average-recipient",
   "metadata": {},
   "outputs": [
    {
     "data": {
      "text/html": [
       "<div>\n",
       "<style scoped>\n",
       "    .dataframe tbody tr th:only-of-type {\n",
       "        vertical-align: middle;\n",
       "    }\n",
       "\n",
       "    .dataframe tbody tr th {\n",
       "        vertical-align: top;\n",
       "    }\n",
       "\n",
       "    .dataframe thead th {\n",
       "        text-align: right;\n",
       "    }\n",
       "</style>\n",
       "<table border=\"1\" class=\"dataframe\">\n",
       "  <thead>\n",
       "    <tr style=\"text-align: right;\">\n",
       "      <th></th>\n",
       "      <th>DATE</th>\n",
       "      <th>PRCP</th>\n",
       "      <th>TMAX</th>\n",
       "      <th>TMIN</th>\n",
       "      <th>RAIN</th>\n",
       "    </tr>\n",
       "  </thead>\n",
       "  <tbody>\n",
       "    <tr>\n",
       "      <th>0</th>\n",
       "      <td>1948-01-01</td>\n",
       "      <td>0.47</td>\n",
       "      <td>51</td>\n",
       "      <td>42</td>\n",
       "      <td>True</td>\n",
       "    </tr>\n",
       "    <tr>\n",
       "      <th>1</th>\n",
       "      <td>1948-01-02</td>\n",
       "      <td>0.59</td>\n",
       "      <td>45</td>\n",
       "      <td>36</td>\n",
       "      <td>True</td>\n",
       "    </tr>\n",
       "    <tr>\n",
       "      <th>2</th>\n",
       "      <td>1948-01-03</td>\n",
       "      <td>0.42</td>\n",
       "      <td>45</td>\n",
       "      <td>35</td>\n",
       "      <td>True</td>\n",
       "    </tr>\n",
       "    <tr>\n",
       "      <th>3</th>\n",
       "      <td>1948-01-04</td>\n",
       "      <td>0.31</td>\n",
       "      <td>45</td>\n",
       "      <td>34</td>\n",
       "      <td>True</td>\n",
       "    </tr>\n",
       "    <tr>\n",
       "      <th>4</th>\n",
       "      <td>1948-01-05</td>\n",
       "      <td>0.17</td>\n",
       "      <td>45</td>\n",
       "      <td>32</td>\n",
       "      <td>True</td>\n",
       "    </tr>\n",
       "    <tr>\n",
       "      <th>...</th>\n",
       "      <td>...</td>\n",
       "      <td>...</td>\n",
       "      <td>...</td>\n",
       "      <td>...</td>\n",
       "      <td>...</td>\n",
       "    </tr>\n",
       "    <tr>\n",
       "      <th>25546</th>\n",
       "      <td>2017-12-10</td>\n",
       "      <td>0.00</td>\n",
       "      <td>49</td>\n",
       "      <td>34</td>\n",
       "      <td>False</td>\n",
       "    </tr>\n",
       "    <tr>\n",
       "      <th>25547</th>\n",
       "      <td>2017-12-11</td>\n",
       "      <td>0.00</td>\n",
       "      <td>49</td>\n",
       "      <td>29</td>\n",
       "      <td>False</td>\n",
       "    </tr>\n",
       "    <tr>\n",
       "      <th>25548</th>\n",
       "      <td>2017-12-12</td>\n",
       "      <td>0.00</td>\n",
       "      <td>46</td>\n",
       "      <td>32</td>\n",
       "      <td>False</td>\n",
       "    </tr>\n",
       "    <tr>\n",
       "      <th>25549</th>\n",
       "      <td>2017-12-13</td>\n",
       "      <td>0.00</td>\n",
       "      <td>48</td>\n",
       "      <td>34</td>\n",
       "      <td>False</td>\n",
       "    </tr>\n",
       "    <tr>\n",
       "      <th>25550</th>\n",
       "      <td>2017-12-14</td>\n",
       "      <td>0.00</td>\n",
       "      <td>50</td>\n",
       "      <td>36</td>\n",
       "      <td>False</td>\n",
       "    </tr>\n",
       "  </tbody>\n",
       "</table>\n",
       "<p>25551 rows × 5 columns</p>\n",
       "</div>"
      ],
      "text/plain": [
       "             DATE  PRCP  TMAX  TMIN   RAIN\n",
       "0      1948-01-01  0.47    51    42   True\n",
       "1      1948-01-02  0.59    45    36   True\n",
       "2      1948-01-03  0.42    45    35   True\n",
       "3      1948-01-04  0.31    45    34   True\n",
       "4      1948-01-05  0.17    45    32   True\n",
       "...           ...   ...   ...   ...    ...\n",
       "25546  2017-12-10  0.00    49    34  False\n",
       "25547  2017-12-11  0.00    49    29  False\n",
       "25548  2017-12-12  0.00    46    32  False\n",
       "25549  2017-12-13  0.00    48    34  False\n",
       "25550  2017-12-14  0.00    50    36  False\n",
       "\n",
       "[25551 rows x 5 columns]"
      ]
     },
     "execution_count": 3,
     "metadata": {},
     "output_type": "execute_result"
    }
   ],
   "source": [
    "ds = pd.read_csv('seattle_weather.csv')\n",
    "ds"
   ]
  },
  {
   "cell_type": "markdown",
   "id": "monthly-meter",
   "metadata": {},
   "source": [
    "### Repeat the following steps for each column within outliers\n",
    "\n",
    "* Visualize the outliers\n",
    "* Detect if your data set contains any outliers\n",
    "* Identify lower & higher limit of outliers\n",
    "* Drop all outliers\n",
    "* Visualize the column after processing\n"
   ]
  },
  {
   "cell_type": "code",
   "execution_count": 4,
   "id": "51e768a0",
   "metadata": {},
   "outputs": [
    {
     "data": {
      "text/html": [
       "<div>\n",
       "<style scoped>\n",
       "    .dataframe tbody tr th:only-of-type {\n",
       "        vertical-align: middle;\n",
       "    }\n",
       "\n",
       "    .dataframe tbody tr th {\n",
       "        vertical-align: top;\n",
       "    }\n",
       "\n",
       "    .dataframe thead th {\n",
       "        text-align: right;\n",
       "    }\n",
       "</style>\n",
       "<table border=\"1\" class=\"dataframe\">\n",
       "  <thead>\n",
       "    <tr style=\"text-align: right;\">\n",
       "      <th></th>\n",
       "      <th>PRCP</th>\n",
       "      <th>TMAX</th>\n",
       "      <th>TMIN</th>\n",
       "    </tr>\n",
       "  </thead>\n",
       "  <tbody>\n",
       "    <tr>\n",
       "      <th>count</th>\n",
       "      <td>25548.000000</td>\n",
       "      <td>25551.000000</td>\n",
       "      <td>25551.000000</td>\n",
       "    </tr>\n",
       "    <tr>\n",
       "      <th>mean</th>\n",
       "      <td>0.106222</td>\n",
       "      <td>59.544206</td>\n",
       "      <td>44.514226</td>\n",
       "    </tr>\n",
       "    <tr>\n",
       "      <th>std</th>\n",
       "      <td>0.239031</td>\n",
       "      <td>12.772984</td>\n",
       "      <td>8.892836</td>\n",
       "    </tr>\n",
       "    <tr>\n",
       "      <th>min</th>\n",
       "      <td>0.000000</td>\n",
       "      <td>4.000000</td>\n",
       "      <td>0.000000</td>\n",
       "    </tr>\n",
       "    <tr>\n",
       "      <th>25%</th>\n",
       "      <td>0.000000</td>\n",
       "      <td>50.000000</td>\n",
       "      <td>38.000000</td>\n",
       "    </tr>\n",
       "    <tr>\n",
       "      <th>50%</th>\n",
       "      <td>0.000000</td>\n",
       "      <td>58.000000</td>\n",
       "      <td>45.000000</td>\n",
       "    </tr>\n",
       "    <tr>\n",
       "      <th>75%</th>\n",
       "      <td>0.100000</td>\n",
       "      <td>69.000000</td>\n",
       "      <td>52.000000</td>\n",
       "    </tr>\n",
       "    <tr>\n",
       "      <th>max</th>\n",
       "      <td>5.020000</td>\n",
       "      <td>103.000000</td>\n",
       "      <td>71.000000</td>\n",
       "    </tr>\n",
       "  </tbody>\n",
       "</table>\n",
       "</div>"
      ],
      "text/plain": [
       "               PRCP          TMAX          TMIN\n",
       "count  25548.000000  25551.000000  25551.000000\n",
       "mean       0.106222     59.544206     44.514226\n",
       "std        0.239031     12.772984      8.892836\n",
       "min        0.000000      4.000000      0.000000\n",
       "25%        0.000000     50.000000     38.000000\n",
       "50%        0.000000     58.000000     45.000000\n",
       "75%        0.100000     69.000000     52.000000\n",
       "max        5.020000    103.000000     71.000000"
      ]
     },
     "execution_count": 4,
     "metadata": {},
     "output_type": "execute_result"
    }
   ],
   "source": [
    "ds.describe()"
   ]
  },
  {
   "cell_type": "code",
   "execution_count": 10,
   "id": "c3cc44b2",
   "metadata": {},
   "outputs": [
    {
     "data": {
      "image/png": "[encoded data removed]",
      "text/plain": [
       "<Figure size 432x288 with 1 Axes>"
      ]
     },
     "metadata": {
      "needs_background": "light"
     },
     "output_type": "display_data"
    }
   ],
   "source": [
    "sns.boxplot(x=\"TMAX\", data=ds, palette='rainbow');"
   ]
  },
  {
   "cell_type": "code",
   "execution_count": 22,
   "id": "7ebbd2ab",
   "metadata": {},
   "outputs": [],
   "source": [
    "q3=np.percentile(ds['TMAX'], 75, interpolation = 'midpoint')"
   ]
  },
  {
   "cell_type": "code",
   "execution_count": 23,
   "id": "8d832a89",
   "metadata": {},
   "outputs": [],
   "source": [
    "iqr = q3 - q1"
   ]
  },
  {
   "cell_type": "code",
   "execution_count": 24,
   "id": "a87619b5",
   "metadata": {},
   "outputs": [],
   "source": [
    "upper = q3 +(1.5*iqr)"
   ]
  },
  {
   "cell_type": "code",
   "execution_count": 25,
   "id": "b7694dce",
   "metadata": {},
   "outputs": [],
   "source": [
    "lower = q1 - (1.5*iqr)"
   ]
  },
  {
   "cell_type": "code",
   "execution_count": 30,
   "id": "2b1384a5",
   "metadata": {
    "scrolled": true
   },
   "outputs": [
    {
     "data": {
      "text/plain": [
       "DATE    0\n",
       "PRCP    3\n",
       "TMAX    0\n",
       "TMIN    0\n",
       "RAIN    3\n",
       "dtype: int64"
      ]
     },
     "execution_count": 30,
     "metadata": {},
     "output_type": "execute_result"
    }
   ],
   "source": [
    "ds.isnull().sum()"
   ]
  },
  {
   "cell_type": "code",
   "execution_count": 65,
   "id": "bc7ced94",
   "metadata": {},
   "outputs": [
    {
     "data": {
      "text/plain": [
       "{'whiskers': [<matplotlib.lines.Line2D at 0x7fdf5815bc10>,\n",
       "  <matplotlib.lines.Line2D at 0x7fdf9b1c24f0>],\n",
       " 'caps': [<matplotlib.lines.Line2D at 0x7fdfaa74f280>,\n",
       "  <matplotlib.lines.Line2D at 0x7fdfaa74f6a0>],\n",
       " 'boxes': [<matplotlib.lines.Line2D at 0x7fdf5815b8b0>],\n",
       " 'medians': [<matplotlib.lines.Line2D at 0x7fdfaa74fd60>],\n",
       " 'fliers': [<matplotlib.lines.Line2D at 0x7fdf580a2100>],\n",
       " 'means': []}"
      ]
     },
     "execution_count": 65,
     "metadata": {},
     "output_type": "execute_result"
    },
    {
     "data": {
      "image/png": "[encoded data removed]",
      "text/plain": [
       "<Figure size 432x288 with 1 Axes>"
      ]
     },
     "metadata": {
      "needs_background": "light"
     },
     "output_type": "display_data"
    }
   ],
   "source": [
    "plt.boxplot(data=ds, x='TMAX')"
   ]
  },
  {
   "cell_type": "markdown",
   "id": "advisory-press",
   "metadata": {},
   "source": []
  },
  {
   "cell_type": "code",
   "execution_count": 66,
   "id": "3d8b3a89",
   "metadata": {},
   "outputs": [
    {
     "data": {
      "image/png": "[encoded data removed]",
      "text/plain": [
       "<Figure size 432x288 with 1 Axes>"
      ]
     },
     "metadata": {
      "needs_background": "light"
     },
     "output_type": "display_data"
    }
   ],
   "source": [
    "sns.boxplot(y=\"TMIN\", data=ds, palette='rainbow');"
   ]
  },
  {
   "cell_type": "code",
   "execution_count": 68,
   "id": "enhanced-forge",
   "metadata": {},
   "outputs": [],
   "source": [
    "q1=np.percentile(ds['TMIN'], 75, interpolation = 'midpoint')"
   ]
  },
  {
   "cell_type": "code",
   "execution_count": 69,
   "id": "e46cfa7a",
   "metadata": {},
   "outputs": [],
   "source": [
    "iqr = q3 - q1"
   ]
  },
  {
   "cell_type": "code",
   "execution_count": 70,
   "id": "43c6ffe7",
   "metadata": {},
   "outputs": [],
   "source": [
    "upper = q3 +(1.5*iqr)"
   ]
  },
  {
   "cell_type": "code",
   "execution_count": 71,
   "id": "7b9bfa9c",
   "metadata": {},
   "outputs": [],
   "source": [
    "lower = q1 - (1.5*iqr)"
   ]
  },
  {
   "cell_type": "code",
   "execution_count": 72,
   "id": "90403fdc",
   "metadata": {},
   "outputs": [
    {
     "data": {
      "text/plain": [
       "{'whiskers': [<matplotlib.lines.Line2D at 0x7fdfaa72d1f0>,\n",
       "  <matplotlib.lines.Line2D at 0x7fdfaa72d550>],\n",
       " 'caps': [<matplotlib.lines.Line2D at 0x7fdfaa72d8b0>,\n",
       "  <matplotlib.lines.Line2D at 0x7fdfaa72dc10>],\n",
       " 'boxes': [<matplotlib.lines.Line2D at 0x7fdfaaa5e580>],\n",
       " 'medians': [<matplotlib.lines.Line2D at 0x7fdfaa72df40>],\n",
       " 'fliers': [<matplotlib.lines.Line2D at 0x7fdfaa6f52b0>],\n",
       " 'means': []}"
      ]
     },
     "execution_count": 72,
     "metadata": {},
     "output_type": "execute_result"
    },
    {
     "data": {
      "image/png": "[encoded data removed]",
      "text/plain": [
       "<Figure size 432x288 with 1 Axes>"
      ]
     },
     "metadata": {
      "needs_background": "light"
     },
     "output_type": "display_data"
    }
   ],
   "source": [
    "plt.boxplot(data=ds, x='TMIN')"
   ]
  },
  {
   "cell_type": "markdown",
   "id": "compatible-source",
   "metadata": {},
   "source": []
  },
  {
   "cell_type": "code",
   "execution_count": null,
   "id": "professional-error",
   "metadata": {},
   "outputs": [],
   "source": []
  },
  {
   "cell_type": "code",
   "execution_count": null,
   "id": "daily-crime",
   "metadata": {},
   "outputs": [],
   "source": []
  }
 ],
 "metadata": {
  "kernelspec": {
   "display_name": "Python 3",
   "language": "python",
   "name": "python3"
  },
  "language_info": {
   "codemirror_mode": {
    "name": "ipython",
    "version": 3
   },
   "file_extension": ".py",
   "mimetype": "text/x-python",
   "name": "python",
   "nbconvert_exporter": "python",
   "pygments_lexer": "ipython3",
   "version": "3.8.8"
  }
 },
 "nbformat": 4,
 "nbformat_minor": 5
}
